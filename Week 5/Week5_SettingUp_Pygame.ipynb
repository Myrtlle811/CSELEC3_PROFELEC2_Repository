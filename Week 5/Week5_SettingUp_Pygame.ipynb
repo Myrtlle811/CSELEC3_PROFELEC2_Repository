{
 "cells": [
  {
   "cell_type": "markdown",
   "id": "3ca405bd",
   "metadata": {},
   "source": [
    "# **GETTING STARTED WITH PYGAME**\n",
    "<i>Prepared by `Myrtlle Gem L. Orano`</i>\n",
    "\n",
    "To begin your journey into game development with Pygame, follow these fundamental steps to set up your environment and create your very first interactive window."
   ]
  },
  {
   "cell_type": "markdown",
   "id": "62c82888",
   "metadata": {},
   "source": [
    "## ***Installation***\n",
    "\n",
    "The first step is to install Pygame. Ensure you have Python installed on your system, then use Python's package installer, pip, from your terminal or command prompt:"
   ]
  },
  {
   "cell_type": "code",
   "execution_count": 1,
   "id": "db7c7764",
   "metadata": {},
   "outputs": [
    {
     "name": "stdout",
     "output_type": "stream",
     "text": [
      "Requirement already satisfied: pygame in c:\\users\\huawei\\appdata\\local\\programs\\python\\python312\\lib\\site-packages (2.6.1)\n",
      "Note: you may need to restart the kernel to use updated packages.\n"
     ]
    },
    {
     "name": "stderr",
     "output_type": "stream",
     "text": [
      "\n",
      "[notice] A new release of pip is available: 24.3.1 -> 25.2\n",
      "[notice] To update, run: python.exe -m pip install --upgrade pip\n"
     ]
    }
   ],
   "source": [
    "%pip install pygame"
   ]
  },
  {
   "cell_type": "markdown",
   "id": "5caae0e4",
   "metadata": {},
   "source": [
    "Once installed, you can verify it by opening a Python interpreter and typing import pygame. If no errors appear, you're ready to proceed."
   ]
  },
  {
   "cell_type": "markdown",
   "id": "841c6cda",
   "metadata": {},
   "source": [
    "## ***Basic Project Structure and Imports***\n",
    "\n",
    "Every Pygame project begins with importing the library and initializing its modules. This sets up Pygame to handle graphics, sound, and input."
   ]
  },
  {
   "cell_type": "code",
   "execution_count": 1,
   "id": "47b9a22d",
   "metadata": {},
   "outputs": [
    {
     "name": "stdout",
     "output_type": "stream",
     "text": [
      "pygame 2.6.1 (SDL 2.28.4, Python 3.12.0)\n",
      "Hello from the pygame community. https://www.pygame.org/contribute.html\n"
     ]
    },
    {
     "data": {
      "text/plain": [
       "(5, 0)"
      ]
     },
     "execution_count": 1,
     "metadata": {},
     "output_type": "execute_result"
    }
   ],
   "source": [
    "import pygame\n",
    "pygame.init()"
   ]
  },
  {
   "cell_type": "markdown",
   "id": "de682290",
   "metadata": {},
   "source": [
    "## ***Setting Up Your First Pygame Window***\n",
    "\n",
    "The display surface is your game's canvas. You define its dimensions and title to create the main window where your game will render."
   ]
  },
  {
   "cell_type": "code",
   "execution_count": 2,
   "id": "27b01111",
   "metadata": {},
   "outputs": [],
   "source": [
    "screen_width = 800\n",
    "screen_height = 600\n",
    "screen = pygame.display.set_mode((screen_width, screen_height))\n",
    "pygame.display.set_caption(\"My First Pygame Window\")"
   ]
  },
  {
   "cell_type": "markdown",
   "id": "3031a3ab",
   "metadata": {},
   "source": [
    "## ***Understanding the Game Loop Concept***\n",
    "\n",
    "The game loop is the heart of any interactive Pygame application. It continuously updates the game state, handles user input (events), and redraws the screen. This loop runs until the user decides to quit the application."
   ]
  },
  {
   "cell_type": "markdown",
   "id": "1ce7abd9",
   "metadata": {},
   "source": [
    "## ***Simple Code Example with Explanations***\n",
    "\n",
    "Here’s a complete, basic example that ties these concepts together, creating a window that stays open until you close it:"
   ]
  },
  {
   "cell_type": "code",
   "execution_count": 1,
   "id": "8e819e45",
   "metadata": {},
   "outputs": [
    {
     "name": "stdout",
     "output_type": "stream",
     "text": [
      "pygame 2.6.1 (SDL 2.28.4, Python 3.12.0)\n",
      "Hello from the pygame community. https://www.pygame.org/contribute.html\n"
     ]
    }
   ],
   "source": [
    "import pygame\n",
    "\n",
    "# 1. Initialize Pygame: This line must be called before using most Pygame functions.\n",
    "pygame.init()\n",
    "\n",
    "# 2. Set up the display: Defines the size of your game window and sets its title.\n",
    "screen_width = 800\n",
    "screen_height = 600\n",
    "screen = pygame.display.set_mode((screen_width, screen_height))\n",
    "pygame.display.set_caption(\"My First Pygame Window\")\n",
    "\n",
    "# 3. Define colors: Often defined as RGB tuples (Red, Green, Blue).\n",
    "BLUE = (0, 0, 255)\n",
    "\n",
    "# 4. Game loop: The main loop that keeps the window open and responsive.\n",
    "running = True\n",
    "while running:\n",
    "    # 5. Event handling: Checks for user input and system events (like closing the window).\n",
    "    for event in pygame.event.get():\n",
    "        if event.type == pygame.QUIT: # If the user clicks the close button\n",
    "            running = False # Exit the game loop\n",
    "\n",
    "    # 6. Drawing (rendering): Fills the background with a color.\n",
    "    screen.fill(BLUE) \n",
    "    \n",
    "    # 7. Update the display: Makes everything drawn since the last flip visible on the screen.\n",
    "    pygame.display.flip()\n",
    "\n",
    "# 8. Quit Pygame: Uninitializes Pygame modules and cleans up resources.\n",
    "pygame.quit()"
   ]
  }
 ],
 "metadata": {
  "kernelspec": {
   "display_name": "Python 3",
   "language": "python",
   "name": "python3"
  },
  "language_info": {
   "codemirror_mode": {
    "name": "ipython",
    "version": 3
   },
   "file_extension": ".py",
   "mimetype": "text/x-python",
   "name": "python",
   "nbconvert_exporter": "python",
   "pygments_lexer": "ipython3",
   "version": "3.12.0"
  }
 },
 "nbformat": 4,
 "nbformat_minor": 5
}

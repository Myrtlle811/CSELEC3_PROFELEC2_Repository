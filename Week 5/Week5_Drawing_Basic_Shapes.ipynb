{
 "cells": [
  {
   "cell_type": "markdown",
   "id": "1e6a7752",
   "metadata": {},
   "source": [
    "# **DRAWING BASIC SHAPES WITH *pygame.draw***\n",
    "<i>Prepared by `Myrtlle Gem L. Orano`</i>\n",
    "\n",
    "Pygame's pygame.draw module provides a set of functions for rendering common geometric shapes directly onto any Surface object. Before drawing, it's essential to define colors using **RGB tuples** (Red, Green, Blue), where each component ranges from 0 to 255. For instance, (255, 0, 0) is pure red, (0, 255, 0) is pure green, and (0, 0, 0) is black."
   ]
  },
  {
   "cell_type": "markdown",
   "id": "73cc4432",
   "metadata": {},
   "source": [
    "## ***Setting Up the Pygame Window***\n",
    "\n",
    "The display surface is your game's canvas."
   ]
  },
  {
   "cell_type": "code",
   "execution_count": 7,
   "id": "3b02d361",
   "metadata": {},
   "outputs": [],
   "source": [
    "import pygame\n",
    "\n",
    "# 1. Initialize Pygame\n",
    "pygame.init()\n",
    "\n",
    "# 2. Set up the display\n",
    "screen_width = 800\n",
    "screen_height = 600\n",
    "screen = pygame.display.set_mode((screen_width, screen_height))\n",
    "pygame.display.set_caption(\"Drawing Basic Shapes\")\n",
    "\n",
    "# 3. Define colors\n",
    "BLACK = (0, 0, 0)\n",
    "RED = (255, 0, 0)\n",
    "GREEN = (0, 255, 0)\n",
    "YELLOW = (255, 255, 0)\n",
    "BLUE = (0, 0, 255)\n",
    "PURPLE = (128, 0, 128)\n",
    "WHITE = (255, 255, 255)"
   ]
  },
  {
   "cell_type": "markdown",
   "id": "a7586b36",
   "metadata": {},
   "source": [
    "## ***Drawing a Point***\n",
    "\n",
    "Draws a single pixel at a specified coordinate."
   ]
  },
  {
   "cell_type": "code",
   "execution_count": 7,
   "id": "e343f021",
   "metadata": {},
   "outputs": [],
   "source": [
    "# 4. Game loop\n",
    "running = True\n",
    "while running:\n",
    "    # 5. Event handling\n",
    "    for event in pygame.event.get():\n",
    "        if event.type == pygame.QUIT: \n",
    "            running = False \n",
    "\n",
    "    # 6. Set background\n",
    "    screen.fill(WHITE) \n",
    "    \n",
    "    # 7. Draw a red point at (100, 150)\n",
    "    pygame.draw.circle(screen, RED, (100, 150), 100) # A circle with radius 1 is effectively a point\n",
    "    \n",
    "    # 8. Update the display\n",
    "    pygame.display.flip()\n",
    "\n",
    "# 9. Quit Pygame\n",
    "pygame.quit()"
   ]
  },
  {
   "cell_type": "markdown",
   "id": "47628ddd",
   "metadata": {},
   "source": [
    "## ***Drawing a Line***\n",
    "\n",
    "Connects two points with a straight line. You can also specify the line's thickness."
   ]
  },
  {
   "cell_type": "code",
   "execution_count": null,
   "id": "28c731e0",
   "metadata": {},
   "outputs": [
    {
     "ename": "",
     "evalue": "",
     "output_type": "error",
     "traceback": [
      "\u001b[1;31mThe Kernel crashed while executing code in the current cell or a previous cell. \n",
      "\u001b[1;31mPlease review the code in the cell(s) to identify a possible cause of the failure. \n",
      "\u001b[1;31mClick <a href='https://aka.ms/vscodeJupyterKernelCrash'>here</a> for more info. \n",
      "\u001b[1;31mView Jupyter <a href='command:jupyter.viewOutput'>log</a> for further details."
     ]
    }
   ],
   "source": [
    "# 4. Game loop\n",
    "running = True\n",
    "while running:\n",
    "    # 5. Event handling\n",
    "    for event in pygame.event.get():\n",
    "        if event.type == pygame.QUIT: \n",
    "            running = False \n",
    "\n",
    "    # 6. Set background\n",
    "    screen.fill(WHITE) \n",
    "    \n",
    "    # 7. Draw a green line from (50, 50) to (200, 100) with thickness 4\n",
    "    pygame.draw.line(screen, GREEN, (50, 50), (200, 100), 4)\n",
    "    \n",
    "    # 8. Update the display\n",
    "    pygame.display.flip()\n",
    "\n",
    "# 9. Quit Pygame\n",
    "pygame.quit()"
   ]
  },
  {
   "cell_type": "markdown",
   "id": "f0837ce2",
   "metadata": {},
   "source": [
    "## ***Drawing a Rectangle***\n",
    "\n",
    "Draws a rectangle, specified by its top-left corner, width, and height. You can draw it filled or as an outline."
   ]
  },
  {
   "cell_type": "code",
   "execution_count": 2,
   "id": "cb19fd05",
   "metadata": {},
   "outputs": [],
   "source": [
    "# 4. Game loop\n",
    "running = True\n",
    "while running:\n",
    "    # 5. Event handling\n",
    "    for event in pygame.event.get():\n",
    "        if event.type == pygame.QUIT: \n",
    "            running = False \n",
    "\n",
    "    # 6. Set background\n",
    "    screen.fill(WHITE) \n",
    "    \n",
    "    # 7. Draw a filled blue rectangle (top-left x, top-left y, width, height)\n",
    "    pygame.draw.rect(screen, BLUE, (250, 50, 100, 70), 0)\n",
    "\n",
    "    # 8. Draw an outlined blue rectangle with a thickness of 2\n",
    "    pygame.draw.rect(screen, RED, (250, 150, 100, 70), 2)\n",
    "    \n",
    "    # 9. Update the display\n",
    "    pygame.display.flip()\n",
    "\n",
    "# 10. Quit Pygame\n",
    "pygame.quit()"
   ]
  },
  {
   "cell_type": "markdown",
   "id": "4baf3ab1",
   "metadata": {},
   "source": [
    "## ***Drawing a Circle***\n",
    "\n",
    "Draws a circle, specified by its center point and radius. Like rectangles, circles can be filled or outlined."
   ]
  },
  {
   "cell_type": "code",
   "execution_count": 4,
   "id": "2eec4a1d",
   "metadata": {},
   "outputs": [],
   "source": [
    "# 4. Game loop\n",
    "running = True\n",
    "while running:\n",
    "    # 5. Event handling\n",
    "    for event in pygame.event.get():\n",
    "        if event.type == pygame.QUIT: \n",
    "            running = False \n",
    "\n",
    "    # 6. Set background\n",
    "    screen.fill(WHITE) \n",
    "    \n",
    "    # 7. Draw a filled yellow circle at (450, 85) with radius 40\n",
    "    pygame.draw.circle(screen, YELLOW, (450, 85), 40)\n",
    "\n",
    "    # 8. Draw an outlined yellow circle with a thickness of 3\n",
    "    pygame.draw.circle(screen, YELLOW, (450, 185), 40, 3)\n",
    "\n",
    "    # 9. Update the display\n",
    "    pygame.display.flip()\n",
    "\n",
    "# 10. Quit Pygame\n",
    "pygame.quit()"
   ]
  },
  {
   "cell_type": "markdown",
   "id": "9b7f1dd8",
   "metadata": {},
   "source": [
    "## ***Drawing a Polygon***\n",
    "\n",
    "Draws a polygon by connecting a list of points. The last point automatically connects to the first. It can also be filled or outlined."
   ]
  },
  {
   "cell_type": "code",
   "execution_count": null,
   "id": "bfc7fdbe",
   "metadata": {},
   "outputs": [],
   "source": [
    "# 4. Define the vertices of a triangle\n",
    "triangle_points = [(550, 50), (600, 150), (500, 150)]\n",
    "\n",
    "# 5. Draw an outlined purple pentagon\n",
    "pentagon_points = [(650, 200), (680, 250), (665, 280), (635, 280), (620, 250)]\n",
    " \n",
    "# 6. Game loop\n",
    "running = True\n",
    "while running:\n",
    "    # 7. Event handling\n",
    "    for event in pygame.event.get():\n",
    "        if event.type == pygame.QUIT: \n",
    "            running = False \n",
    "\n",
    "    # 8. Set background\n",
    "    screen.fill(WHITE) \n",
    "    \n",
    "    # 9.  Draw a filled purple triangle\n",
    "    pygame.draw.polygon(screen, PURPLE, triangle_points)\n",
    "\n",
    "    # 10. Draw an outlined purple pentagon\n",
    "    pygame.draw.polygon(screen, PURPLE, pentagon_points, 2)\n",
    "\n",
    "    # 11. Update the display\n",
    "    pygame.display.flip()\n",
    "\n",
    "# 12. Quit Pygame\n",
    "pygame.quit()"
   ]
  },
  {
   "cell_type": "code",
   "execution_count": null,
   "id": "f1af3f4c",
   "metadata": {},
   "outputs": [],
   "source": []
  }
 ],
 "metadata": {
  "kernelspec": {
   "display_name": "Python 3",
   "language": "python",
   "name": "python3"
  },
  "language_info": {
   "codemirror_mode": {
    "name": "ipython",
    "version": 3
   },
   "file_extension": ".py",
   "mimetype": "text/x-python",
   "name": "python",
   "nbconvert_exporter": "python",
   "pygments_lexer": "ipython3",
   "version": "3.12.0"
  }
 },
 "nbformat": 4,
 "nbformat_minor": 5
}
